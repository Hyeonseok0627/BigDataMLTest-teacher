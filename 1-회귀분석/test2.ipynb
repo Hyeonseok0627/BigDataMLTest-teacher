{
 "cells": [
  {
   "cell_type": "markdown",
   "metadata": {},
   "source": [
    "## 자동차 연비 분석 , 회귀분석 모델 + 산점도 이용해보기. \n",
    "### 자동차 연비 데이터 가져오기. \n",
    "### 공식 사이트 : https://archive.ics.uci.edu/\n",
    "### 검색어 : auto "
   ]
  }
 ],
 "metadata": {
  "language_info": {
   "name": "python"
  }
 },
 "nbformat": 4,
 "nbformat_minor": 2
}
