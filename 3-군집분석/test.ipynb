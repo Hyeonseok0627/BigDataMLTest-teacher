{
 "cells": [
  {
   "cell_type": "markdown",
   "metadata": {},
   "source": [
    "## 군집합 분석 -> k-평균 알고리짐(군집합)분석\n",
    "### 샘플 데이터 : 온라인 판매 데이터(영국 특정 쇼핑몰의 샘플 데이터 기반)\n",
    "### UCI 레포지토리 다운 받을 예정. \n",
    "### 분석 모델 구축 : 사이킷런의 내부에 있는 패키지를 이용하고 있는 중. \n",
    "### 구글, 메타, 파이썬의 내장 패키지등, 오픈 소스를 이용하고 있다. \n",
    "\n",
    "### 용어정리 \n",
    "### 비지도 학습: 쉽게 말해서, 답이 없는 학습을 시켜서, 학습된 모델을 이용해서, 예측값 , 실제값 비교하는 \n",
    "### 간단한 프로세스 \n",
    "### x(훈련데이터)-> 머신러닝 프로그램 -> 학습 모델 -> 클러스터(군, 집합, 분류..)\n",
    "###  새로운 데이터 -> 학습 모델 -> 예측 레이블(타겟, 결과등)\n",
    "\n",
    "### 예) 쇼핑몰 , 소비 패턴을 파악하는 비지도학습 모델링. \n",
    "### 예2) 겨울에 1월 시즌에는 어는 물품이 많이 구매가 되었는지, 연령층 별로, 구매 패턴-> 분류를 \n",
    "### 예3) 30 ~ 40대, 책 구매를 많이했고, 식료품에 다이어트 식품들이 구매가 많이 되었다. -> 광고,  \n",
    "\n",
    "### k-평균 알고리즘 \n",
    "### k개의 클러스터를 구성한다. k개의 중심점을 임의의 위치로 잡고 중심점을 기준으로 가까이 있는 데이터를\n",
    "### 확인한 뒤, 그들과의 거리의 평균 지점을 중심점으로 이동한다. -> 나중에, 삼각형 모양으로 중심점 표기.\n",
    "### 임의의 클러스터의 k개의 최적 갯수를 찾는 부분이 문제점\n",
    "### 가장 좋은 k를 찾기 위한 방법으로, 엘보 방법, 실루엣 방법을 사용할 예정. \n",
    "\n",
    "### 엘보 방법. \n",
    "### 클러스터의 중심점과 클러스터 내의 데이터 거리 차이의 제곱값 합을 -> 왜곡이라고 부름 \n",
    "### 선이 급격히 꺽이는 지점 있음. 그 지점 엘보(팔꿈치), 값을 최적의 k 값으로 사용함 -> 그래프로 꺽이는 지점, 보여드림. \n",
    "\n",
    "### 실루엣 분석\n",
    "### 클러스터의 갯수를 얼마로 정할지를 지정해주는 분석 방법.\n",
    "### 클러스터 내에 있는 데이터가 얼마나 조밀하게 모여 있는지를 측정하는 도구. \n",
    "### 데이터 i가 해당 클러스터(군, 집합)내의 데이터와 얼마나 가까운지를 나타내는 응집력 a(i)\n",
    "### 가장 가까운 다른 클러스터 내의 데이터와 얼마나 떨어져 있는지 (분리도) b(i)\n",
    "### 실루엣 계수 s(i)-> = (b(i) - a(i)) / max (a(i), b(i)) , \n",
    "### 실루엣 계수의 결괏값은 , -1 < s(i) <1, 결론, -> 1에 가까울수록 좋은 군집화. \n",
    "\n",
    "\n",
    "### 사이킷런에서, 함수로 다 제공해주니, 이용하기.\n",
    "\n"
   ]
  },
  {
   "cell_type": "markdown",
   "metadata": {},
   "source": [
    "### 샘플 데이터 받기\n",
    "### UCI 레포지토리에서 -> online retail \n"
   ]
  },
  {
   "cell_type": "code",
   "execution_count": 1,
   "metadata": {},
   "outputs": [
    {
     "name": "stdout",
     "output_type": "stream",
     "text": [
      "Requirement already satisfied: openpyxl in c:\\python\\python310\\lib\\site-packages (3.1.2)\n",
      "Requirement already satisfied: et-xmlfile in c:\\python\\python310\\lib\\site-packages (from openpyxl) (1.1.0)\n"
     ]
    }
   ],
   "source": [
    "# 엑셀 파일 읽기 도구 설치. \n",
    "!pip install openpyxl"
   ]
  },
  {
   "cell_type": "code",
   "execution_count": 2,
   "metadata": {},
   "outputs": [],
   "source": [
    "import pandas as pd \n",
    "import math\n",
    "\n",
    "retail_df = pd.read_excel(\"./Online_Retail.xlsx\")\n",
    "retail_df.head()"
   ]
  }
 ],
 "metadata": {
  "kernelspec": {
   "display_name": "Python 3",
   "language": "python",
   "name": "python3"
  },
  "language_info": {
   "codemirror_mode": {
    "name": "ipython",
    "version": 3
   },
   "file_extension": ".py",
   "mimetype": "text/x-python",
   "name": "python",
   "nbconvert_exporter": "python",
   "pygments_lexer": "ipython3",
   "version": "3.10.7"
  }
 },
 "nbformat": 4,
 "nbformat_minor": 2
}
