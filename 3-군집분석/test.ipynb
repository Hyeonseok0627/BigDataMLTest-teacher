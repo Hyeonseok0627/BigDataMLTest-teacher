{
 "cells": [
  {
   "cell_type": "markdown",
   "metadata": {},
   "source": [
    "## 군집합 분석 -> k-평균 알고리짐(군집합)분석\n",
    "### 샘플 데이터 : 온라인 판매 데이터(영국 특정 쇼핑몰의 샘플 데이터 기반)\n",
    "### UCI 레포지토리 다운 받을 예정. \n",
    "### 분석 모델 구축 : 사이킷런의 내부에 있는 패키지를 이용하고 있는 중. \n",
    "### 구글, 메타, 파이썬의 내장 패키지등, 오픈 소스를 이용하고 있다. \n",
    "\n",
    "### 용어정리 \n",
    "### 비지도 학습: 쉽게 말해서, 답이 없는 학습을 시켜서, 학습된 모델을 이용해서, 예측값 , 실제값 비교하는 \n",
    "### 간단한 프로세스 \n",
    "### x(훈련데이터)-> 머신러닝 프로그램 -> 학습 모델 -> 클러스터(군, 집합, 분류..)\n",
    "###  새로운 데이터 -> 학습 모델 -> 예측 레이블(타겟, 결과등)\n",
    "\n",
    "### 예) 쇼핑몰 , 소비 패턴을 파악하는 비지도학습 모델링. \n",
    "### 예2) 겨울에 1월 시즌에는 어는 물품이 많이 구매가 되었는지, 연령층 별로, 구매 패턴-> 분류를 \n",
    "### 예3) 30 ~ 40대, 책 구매를 많이했고, 식료품에 다이어트 식품들이 구매가 많이 되었다. -> 광고,  \n",
    "\n",
    "### k-평균 알고리즘 \n",
    "### k개의 클러스터를 구성한다. k개의 중심점을 임의의 위치로 잡고 중심점을 기준으로 가까이 있는 데이터를\n",
    "### 확인한 뒤, 그들과의 거리의 평균 지점을 중심점으로 이동한다. -> 나중에, 삼각형 모양으로 중심점 표기.\n",
    "### 임의의 클러스터의 k개의 최적 갯수를 찾는 부분이 문제점\n",
    "### 가장 좋은 k를 찾기 위한 방법으로, 엘보 방법, 실루엣 방법을 사용할 예정. \n",
    "\n",
    "### 엘보 방법. \n",
    "### 클러스터의 중심점과 클러스터 내의 데이터 거리 차이의 제곱값 합을 -> 왜곡이라고 부름 \n",
    "### 선이 급격히 꺽이는 지점 있음. 그 지점 엘보(팔꿈치), 값을 최적의 k 값으로 사용함 -> 그래프로 꺽이는 지점, 보여드림. \n",
    "\n",
    "### 실루엣 분석\n",
    "### 클러스터의 갯수를 얼마로 정할지를 지정해주는 분석 방법.\n",
    "### 클러스터 내에 있는 데이터가 얼마나 조밀하게 모여 있는지를 측정하는 도구. \n",
    "### 데이터 i가 해당 클러스터(군, 집합)내의 데이터와 얼마나 가까운지를 나타내는 응집력 a(i)\n",
    "### 가장 가까운 다른 클러스터 내의 데이터와 얼마나 떨어져 있는지 (분리도) b(i)\n",
    "### 실루엣 계수 s(i)-> = (b(i) - a(i)) / max (a(i), b(i)) , \n",
    "### 실루엣 계수의 결괏값은 , -1 < s(i) <1, 결론, -> 1에 가까울수록 좋은 군집화. \n",
    "\n",
    "\n",
    "### 사이킷런에서, 함수로 다 제공해주니, 이용하기.\n",
    "\n"
   ]
  },
  {
   "cell_type": "markdown",
   "metadata": {},
   "source": [
    "### 샘플 데이터 받기\n",
    "### UCI 레포지토리에서 -> online retail \n"
   ]
  },
  {
   "cell_type": "code",
   "execution_count": 1,
   "metadata": {},
   "outputs": [
    {
     "name": "stdout",
     "output_type": "stream",
     "text": [
      "Requirement already satisfied: openpyxl in c:\\python\\python310\\lib\\site-packages (3.1.2)\n",
      "Requirement already satisfied: et-xmlfile in c:\\python\\python310\\lib\\site-packages (from openpyxl) (1.1.0)\n"
     ]
    }
   ],
   "source": [
    "# 엑셀 파일 읽기 도구 설치. \n",
    "!pip install openpyxl"
   ]
  },
  {
   "cell_type": "code",
   "execution_count": 2,
   "metadata": {},
   "outputs": [
    {
     "data": {
      "text/html": [
       "<div>\n",
       "<style scoped>\n",
       "    .dataframe tbody tr th:only-of-type {\n",
       "        vertical-align: middle;\n",
       "    }\n",
       "\n",
       "    .dataframe tbody tr th {\n",
       "        vertical-align: top;\n",
       "    }\n",
       "\n",
       "    .dataframe thead th {\n",
       "        text-align: right;\n",
       "    }\n",
       "</style>\n",
       "<table border=\"1\" class=\"dataframe\">\n",
       "  <thead>\n",
       "    <tr style=\"text-align: right;\">\n",
       "      <th></th>\n",
       "      <th>InvoiceNo</th>\n",
       "      <th>StockCode</th>\n",
       "      <th>Description</th>\n",
       "      <th>Quantity</th>\n",
       "      <th>InvoiceDate</th>\n",
       "      <th>UnitPrice</th>\n",
       "      <th>CustomerID</th>\n",
       "      <th>Country</th>\n",
       "    </tr>\n",
       "  </thead>\n",
       "  <tbody>\n",
       "    <tr>\n",
       "      <th>0</th>\n",
       "      <td>536365</td>\n",
       "      <td>85123A</td>\n",
       "      <td>WHITE HANGING HEART T-LIGHT HOLDER</td>\n",
       "      <td>6</td>\n",
       "      <td>2010-12-01 08:26:00</td>\n",
       "      <td>2.55</td>\n",
       "      <td>17850.0</td>\n",
       "      <td>United Kingdom</td>\n",
       "    </tr>\n",
       "    <tr>\n",
       "      <th>1</th>\n",
       "      <td>536365</td>\n",
       "      <td>71053</td>\n",
       "      <td>WHITE METAL LANTERN</td>\n",
       "      <td>6</td>\n",
       "      <td>2010-12-01 08:26:00</td>\n",
       "      <td>3.39</td>\n",
       "      <td>17850.0</td>\n",
       "      <td>United Kingdom</td>\n",
       "    </tr>\n",
       "    <tr>\n",
       "      <th>2</th>\n",
       "      <td>536365</td>\n",
       "      <td>84406B</td>\n",
       "      <td>CREAM CUPID HEARTS COAT HANGER</td>\n",
       "      <td>8</td>\n",
       "      <td>2010-12-01 08:26:00</td>\n",
       "      <td>2.75</td>\n",
       "      <td>17850.0</td>\n",
       "      <td>United Kingdom</td>\n",
       "    </tr>\n",
       "    <tr>\n",
       "      <th>3</th>\n",
       "      <td>536365</td>\n",
       "      <td>84029G</td>\n",
       "      <td>KNITTED UNION FLAG HOT WATER BOTTLE</td>\n",
       "      <td>6</td>\n",
       "      <td>2010-12-01 08:26:00</td>\n",
       "      <td>3.39</td>\n",
       "      <td>17850.0</td>\n",
       "      <td>United Kingdom</td>\n",
       "    </tr>\n",
       "    <tr>\n",
       "      <th>4</th>\n",
       "      <td>536365</td>\n",
       "      <td>84029E</td>\n",
       "      <td>RED WOOLLY HOTTIE WHITE HEART.</td>\n",
       "      <td>6</td>\n",
       "      <td>2010-12-01 08:26:00</td>\n",
       "      <td>3.39</td>\n",
       "      <td>17850.0</td>\n",
       "      <td>United Kingdom</td>\n",
       "    </tr>\n",
       "  </tbody>\n",
       "</table>\n",
       "</div>"
      ],
      "text/plain": [
       "  InvoiceNo StockCode                          Description  Quantity  \\\n",
       "0    536365    85123A   WHITE HANGING HEART T-LIGHT HOLDER         6   \n",
       "1    536365     71053                  WHITE METAL LANTERN         6   \n",
       "2    536365    84406B       CREAM CUPID HEARTS COAT HANGER         8   \n",
       "3    536365    84029G  KNITTED UNION FLAG HOT WATER BOTTLE         6   \n",
       "4    536365    84029E       RED WOOLLY HOTTIE WHITE HEART.         6   \n",
       "\n",
       "          InvoiceDate  UnitPrice  CustomerID         Country  \n",
       "0 2010-12-01 08:26:00       2.55     17850.0  United Kingdom  \n",
       "1 2010-12-01 08:26:00       3.39     17850.0  United Kingdom  \n",
       "2 2010-12-01 08:26:00       2.75     17850.0  United Kingdom  \n",
       "3 2010-12-01 08:26:00       3.39     17850.0  United Kingdom  \n",
       "4 2010-12-01 08:26:00       3.39     17850.0  United Kingdom  "
      ]
     },
     "execution_count": 2,
     "metadata": {},
     "output_type": "execute_result"
    }
   ],
   "source": [
    "import pandas as pd \n",
    "import math\n",
    "\n",
    "# 영국 온라인 소매 플랫폼, 2010/12/1 , 2011/12/9 , 1년 동안 수집된 데이터. \n",
    "retail_df = pd.read_excel(\"./Online_Retail.xlsx\")\n",
    "retail_df.head()"
   ]
  },
  {
   "cell_type": "markdown",
   "metadata": {},
   "source": [
    "### Online_Retail.xlsx , 컬럼 기본 정보 \n",
    "### InvoiceNo : 6자리 정소, 송장번호, C로 시작하는 것은 취소 주문 \n",
    "### StockCode : 제퓸 고유 품목 코드 \n",
    "### Description : 제품 설명 \n",
    "### Quantity : 주문 수량 \n",
    "### InvoiceDate : 주문 날짜 시간 \n",
    "### UnitPrice : 제품 단가(영국 파운드화)\n",
    "### CustomerID : 주문 고객 번호 \n",
    "### Country : 주문 고객 국적"
   ]
  },
  {
   "cell_type": "code",
   "execution_count": 3,
   "metadata": {},
   "outputs": [
    {
     "name": "stdout",
     "output_type": "stream",
     "text": [
      "<class 'pandas.core.frame.DataFrame'>\n",
      "RangeIndex: 541909 entries, 0 to 541908\n",
      "Data columns (total 8 columns):\n",
      " #   Column       Non-Null Count   Dtype         \n",
      "---  ------       --------------   -----         \n",
      " 0   InvoiceNo    541909 non-null  object        \n",
      " 1   StockCode    541909 non-null  object        \n",
      " 2   Description  540455 non-null  object        \n",
      " 3   Quantity     541909 non-null  int64         \n",
      " 4   InvoiceDate  541909 non-null  datetime64[ns]\n",
      " 5   UnitPrice    541909 non-null  float64       \n",
      " 6   CustomerID   406829 non-null  float64       \n",
      " 7   Country      541909 non-null  object        \n",
      "dtypes: datetime64[ns](1), float64(2), int64(1), object(4)\n",
      "memory usage: 33.1+ MB\n"
     ]
    }
   ],
   "source": [
    "# 데이터 기본 정보를 확인. \n",
    "retail_df.info()\n",
    "# 전체 데이터 갯수 : 541,909 개 \n",
    "# Description :     540,455 개\n",
    "# CustomerID  :     406,829 개"
   ]
  },
  {
   "cell_type": "code",
   "execution_count": 4,
   "metadata": {},
   "outputs": [
    {
     "name": "stdout",
     "output_type": "stream",
     "text": [
      "<class 'pandas.core.frame.DataFrame'>\n",
      "Int64Index: 397884 entries, 0 to 541908\n",
      "Data columns (total 8 columns):\n",
      " #   Column       Non-Null Count   Dtype         \n",
      "---  ------       --------------   -----         \n",
      " 0   InvoiceNo    397884 non-null  object        \n",
      " 1   StockCode    397884 non-null  object        \n",
      " 2   Description  397884 non-null  object        \n",
      " 3   Quantity     397884 non-null  int64         \n",
      " 4   InvoiceDate  397884 non-null  datetime64[ns]\n",
      " 5   UnitPrice    397884 non-null  float64       \n",
      " 6   CustomerID   397884 non-null  int32         \n",
      " 7   Country      397884 non-null  object        \n",
      "dtypes: datetime64[ns](1), float64(1), int32(1), int64(1), object(4)\n",
      "memory usage: 25.8+ MB\n"
     ]
    }
   ],
   "source": [
    "# 데이터 기본 정제\n",
    "# 1 CustomerID 기존 : 실수형 -> 정수형 변경 \n",
    "# 2 CustomerID 없는 데이터 제거 \n",
    "# 3 Quantity, UnitPrice , 음수값 제거, 수량, 가격은 기본적으로 다 양이라서, \n",
    "\n",
    "# Quantity, UnitPrice , 음수값 제거,\n",
    "retail_df = retail_df[retail_df[\"Quantity\"]>0]\n",
    "retail_df = retail_df[retail_df[\"UnitPrice\"]>0]\n",
    "# 2 CustomerID 없는 데이터 제거 \n",
    "retail_df = retail_df[retail_df[\"CustomerID\"].notnull()]\n",
    "\n",
    "# 1 CustomerID 기존 : 실수형 -> 정수형 변경 \n",
    "retail_df[\"CustomerID\"] = retail_df[\"CustomerID\"].astype(int)\n",
    "\n",
    "# 확인, \n",
    "retail_df.info()"
   ]
  },
  {
   "cell_type": "code",
   "execution_count": 6,
   "metadata": {},
   "outputs": [
    {
     "name": "stdout",
     "output_type": "stream",
     "text": [
      "InvoiceNo      0\n",
      "StockCode      0\n",
      "Description    0\n",
      "Quantity       0\n",
      "InvoiceDate    0\n",
      "UnitPrice      0\n",
      "CustomerID     0\n",
      "Country        0\n",
      "dtype: int64\n",
      "(397884, 8)\n"
     ]
    }
   ],
   "source": [
    "# 기본 null 값 여부 확인. null 값 모두 제거 확인. \n",
    "print(retail_df.isnull().sum())\n",
    "# 차원으로 해당 데이터의 갯수 \n",
    "print(retail_df.shape)"
   ]
  }
 ],
 "metadata": {
  "kernelspec": {
   "display_name": "Python 3",
   "language": "python",
   "name": "python3"
  },
  "language_info": {
   "codemirror_mode": {
    "name": "ipython",
    "version": 3
   },
   "file_extension": ".py",
   "mimetype": "text/x-python",
   "name": "python",
   "nbconvert_exporter": "python",
   "pygments_lexer": "ipython3",
   "version": "3.10.7"
  }
 },
 "nbformat": 4,
 "nbformat_minor": 2
}
