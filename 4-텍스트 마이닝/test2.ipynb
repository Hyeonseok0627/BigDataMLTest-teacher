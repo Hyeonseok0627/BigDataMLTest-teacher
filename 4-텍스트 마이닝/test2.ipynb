{
 "cells": [
  {
   "cell_type": "markdown",
   "metadata": {},
   "source": [
    "### 코로나 때, 수집된 샘플 뉴스를 이용해서, 주제 분석할 예정. \n",
    "### 감성 분석,"
   ]
  }
 ],
 "metadata": {
  "language_info": {
   "name": "python"
  }
 },
 "nbformat": 4,
 "nbformat_minor": 2
}
